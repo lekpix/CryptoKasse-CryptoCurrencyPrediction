{
 "cells": [
  {
   "cell_type": "code",
   "execution_count": 2,
   "id": "858d147b",
   "metadata": {},
   "outputs": [],
   "source": [
    "# Dependencies\n",
    "import requests\n",
    "from config import api_key\n",
    "import pandas as pd\n",
    "from pprint import pprint\n",
    "from datetime import datetime"
   ]
  },
  {
   "cell_type": "code",
   "execution_count": 8,
   "id": "95c52d98",
   "metadata": {},
   "outputs": [],
   "source": [
    "url = f\"https://min-api.cryptocompare.com/data/v2/histohour?fsym=USDT&tsym=USD&limit=2000&toTs=-1&api_key={api_key}\"\n",
    "r = requests.get(url)\n",
    "data = r.json()"
   ]
  },
  {
   "cell_type": "code",
   "execution_count": 9,
   "id": "d503cf9c",
   "metadata": {},
   "outputs": [
    {
     "data": {
      "text/html": [
       "<div>\n",
       "<style scoped>\n",
       "    .dataframe tbody tr th:only-of-type {\n",
       "        vertical-align: middle;\n",
       "    }\n",
       "\n",
       "    .dataframe tbody tr th {\n",
       "        vertical-align: top;\n",
       "    }\n",
       "\n",
       "    .dataframe thead th {\n",
       "        text-align: right;\n",
       "    }\n",
       "</style>\n",
       "<table border=\"1\" class=\"dataframe\">\n",
       "  <thead>\n",
       "    <tr style=\"text-align: right;\">\n",
       "      <th></th>\n",
       "      <th>time</th>\n",
       "      <th>high</th>\n",
       "      <th>low</th>\n",
       "      <th>open</th>\n",
       "      <th>volumefrom</th>\n",
       "      <th>volumeto</th>\n",
       "      <th>close</th>\n",
       "      <th>conversionType</th>\n",
       "      <th>conversionSymbol</th>\n",
       "    </tr>\n",
       "  </thead>\n",
       "  <tbody>\n",
       "    <tr>\n",
       "      <th>0</th>\n",
       "      <td>1636538400</td>\n",
       "      <td>1.004</td>\n",
       "      <td>0.9981</td>\n",
       "      <td>1.0000</td>\n",
       "      <td>574.66</td>\n",
       "      <td>574.79</td>\n",
       "      <td>1.0000</td>\n",
       "      <td>invert_divide</td>\n",
       "      <td>BTC</td>\n",
       "    </tr>\n",
       "    <tr>\n",
       "      <th>1</th>\n",
       "      <td>1636542000</td>\n",
       "      <td>1.005</td>\n",
       "      <td>0.9999</td>\n",
       "      <td>1.0000</td>\n",
       "      <td>762.63</td>\n",
       "      <td>762.58</td>\n",
       "      <td>0.9999</td>\n",
       "      <td>invert_divide</td>\n",
       "      <td>BTC</td>\n",
       "    </tr>\n",
       "    <tr>\n",
       "      <th>2</th>\n",
       "      <td>1636545600</td>\n",
       "      <td>1.008</td>\n",
       "      <td>0.9982</td>\n",
       "      <td>0.9999</td>\n",
       "      <td>1055.99</td>\n",
       "      <td>1055.95</td>\n",
       "      <td>1.0000</td>\n",
       "      <td>invert_divide</td>\n",
       "      <td>BTC</td>\n",
       "    </tr>\n",
       "    <tr>\n",
       "      <th>3</th>\n",
       "      <td>1636549200</td>\n",
       "      <td>1.000</td>\n",
       "      <td>0.9717</td>\n",
       "      <td>1.0000</td>\n",
       "      <td>3776.71</td>\n",
       "      <td>3777.46</td>\n",
       "      <td>1.0000</td>\n",
       "      <td>invert_divide</td>\n",
       "      <td>BTC</td>\n",
       "    </tr>\n",
       "    <tr>\n",
       "      <th>4</th>\n",
       "      <td>1636552800</td>\n",
       "      <td>1.009</td>\n",
       "      <td>0.9935</td>\n",
       "      <td>1.0000</td>\n",
       "      <td>5081.25</td>\n",
       "      <td>5083.33</td>\n",
       "      <td>1.0000</td>\n",
       "      <td>invert_divide</td>\n",
       "      <td>BTC</td>\n",
       "    </tr>\n",
       "  </tbody>\n",
       "</table>\n",
       "</div>"
      ],
      "text/plain": [
       "         time   high     low    open  volumefrom  volumeto   close  \\\n",
       "0  1636538400  1.004  0.9981  1.0000      574.66    574.79  1.0000   \n",
       "1  1636542000  1.005  0.9999  1.0000      762.63    762.58  0.9999   \n",
       "2  1636545600  1.008  0.9982  0.9999     1055.99   1055.95  1.0000   \n",
       "3  1636549200  1.000  0.9717  1.0000     3776.71   3777.46  1.0000   \n",
       "4  1636552800  1.009  0.9935  1.0000     5081.25   5083.33  1.0000   \n",
       "\n",
       "  conversionType conversionSymbol  \n",
       "0  invert_divide              BTC  \n",
       "1  invert_divide              BTC  \n",
       "2  invert_divide              BTC  \n",
       "3  invert_divide              BTC  \n",
       "4  invert_divide              BTC  "
      ]
     },
     "execution_count": 9,
     "metadata": {},
     "output_type": "execute_result"
    }
   ],
   "source": [
    "df = pd.DataFrame(data['Data']['Data'])\n",
    "df.head()"
   ]
  },
  {
   "cell_type": "code",
   "execution_count": 10,
   "id": "45fd5636",
   "metadata": {},
   "outputs": [],
   "source": [
    "df.to_csv(\"Tesladata.csv\")"
   ]
  }
 ],
 "metadata": {
  "kernelspec": {
   "display_name": "Python 3",
   "language": "python",
   "name": "python3"
  },
  "language_info": {
   "codemirror_mode": {
    "name": "ipython",
    "version": 3
   },
   "file_extension": ".py",
   "mimetype": "text/x-python",
   "name": "python",
   "nbconvert_exporter": "python",
   "pygments_lexer": "ipython3",
   "version": "3.8.8"
  }
 },
 "nbformat": 4,
 "nbformat_minor": 5
}
